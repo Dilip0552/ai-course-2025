{
 "cells": [
  {
   "cell_type": "markdown",
   "id": "5db5a2e4",
   "metadata": {},
   "source": [
    "**BFS**"
   ]
  },
  {
   "cell_type": "code",
   "execution_count": null,
   "id": "1ac0505f",
   "metadata": {},
   "outputs": [],
   "source": [
    "from collections import deque\n",
    "def BFS(graph, start):\n",
    "    color = {u: \"WHITE\" for u in graph}\n",
    "    distance = {u: float(\"inf\") for u in graph}\n",
    "    parent = {u: None for u in graph}\n",
    "\n",
    "    color[start] = \"GRAY\"\n",
    "    distance[start] = 0\n",
    "    parent[start] = None\n",
    "\n",
    "    Q = deque()\n",
    "    Q.append(start)\n",
    "\n",
    "    # BFS loop\n",
    "    while Q:\n",
    "        u = Q.popleft()\n",
    "        for v in graph[u]:\n",
    "            if color[v] == \"WHITE\":\n",
    "                color[v] = \"GRAY\"\n",
    "                distance[v] = distance[u] + 1\n",
    "                parent[v] = u\n",
    "                Q.append(v)\n",
    "        color[u] = \"BLACK\"\n",
    "\n",
    "    return distance, parent"
   ]
  },
  {
   "cell_type": "code",
   "execution_count": null,
   "id": "4870745d",
   "metadata": {},
   "outputs": [],
   "source": [
    "graph = {\n",
    "    'A': ['B', 'C'],\n",
    "    'B': ['D', 'E'],\n",
    "    'C': ['F'],\n",
    "    'D': [],\n",
    "    'E': ['F'],\n",
    "    'F': []\n",
    "}\n",
    "distance, parent = BFS(graph, 'A')\n",
    "\n",
    "print(\"Distances from source:\", distance)\n",
    "print(\"Parents in BFS tree:\", parent)"
   ]
  },
  {
   "cell_type": "code",
   "execution_count": null,
   "id": "d9b4997f",
   "metadata": {},
   "outputs": [],
   "source": [
    "\n",
    "print(\"BFS Tree edges:\")\n",
    "for node, p in parent.items():\n",
    "    if p is not None:\n",
    "        print(f\"{p} -> {node}\")"
   ]
  },
  {
   "cell_type": "markdown",
   "id": "6ab7bf03",
   "metadata": {},
   "source": [
    "**Find the path given the start node and end node using BFS**"
   ]
  },
  {
   "cell_type": "code",
   "execution_count": 1,
   "id": "46c6b390",
   "metadata": {},
   "outputs": [],
   "source": [
    "from collections import deque\n",
    "\n",
    "def useBFS(graph, start, end):\n",
    "    color = {u: \"WHITE\" for u in graph}\n",
    "    distance = {u: float(\"inf\") for u in graph}\n",
    "    parent = {u: None for u in graph}\n",
    "\n",
    "    color[start] = \"GRAY\"\n",
    "    distance[start] = 0\n",
    "    parent[start] = None\n",
    "    steps = 0\n",
    "    Q = deque()\n",
    "    Q.append(start)\n",
    "\n",
    "    while Q:\n",
    "        u = Q.popleft()\n",
    "        steps+=1\n",
    "        for v in graph[u]:\n",
    "            if color[v] == \"WHITE\":\n",
    "                color[v] = \"GRAY\"\n",
    "                distance[v] = distance[u] + 1\n",
    "                parent[v] = u\n",
    "                if v == end:\n",
    "                    Q.clear()  \n",
    "                    break\n",
    "                Q.append(v)\n",
    "        color[u] = \"BLACK\"\n",
    "\n",
    "    if parent[end] is None and start != end:\n",
    "        return None  \n",
    "\n",
    "    path = []\n",
    "    current = end\n",
    "    while current is not None:\n",
    "        path.append(current)\n",
    "        current = parent[current]\n",
    "    path.reverse()\n",
    "\n",
    "    return path,steps\n"
   ]
  },
  {
   "cell_type": "code",
   "execution_count": 7,
   "id": "92af6ab3",
   "metadata": {},
   "outputs": [
    {
     "name": "stdout",
     "output_type": "stream",
     "text": [
      "Path:  ['A', 'B', 'E']\n",
      "Steps:  2\n"
     ]
    }
   ],
   "source": [
    "graph = {\n",
    "    'A': ['B', 'C'],\n",
    "    'B': ['D', 'E'],\n",
    "    'C': ['F'],\n",
    "    'D': [],\n",
    "    'E': ['F'],\n",
    "    'F': []\n",
    "}\n",
    "path, steps = useBFS(graph, 'A','E')\n",
    "\n",
    "print(\"Path: \",path)\n",
    "print(\"Steps: \",steps)"
   ]
  }
 ],
 "metadata": {
  "kernelspec": {
   "display_name": "Python 3",
   "language": "python",
   "name": "python3"
  },
  "language_info": {
   "codemirror_mode": {
    "name": "ipython",
    "version": 3
   },
   "file_extension": ".py",
   "mimetype": "text/x-python",
   "name": "python",
   "nbconvert_exporter": "python",
   "pygments_lexer": "ipython3",
   "version": "3.12.10"
  }
 },
 "nbformat": 4,
 "nbformat_minor": 5
}
