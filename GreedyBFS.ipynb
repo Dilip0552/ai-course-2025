{
 "cells": [
  {
   "cell_type": "markdown",
   "id": "adbc17e2",
   "metadata": {},
   "source": [
    "**GreedyBFS**"
   ]
  },
  {
   "cell_type": "code",
   "execution_count": 1,
   "id": "a419cf48",
   "metadata": {},
   "outputs": [],
   "source": [
    "grid = [ \n",
    "    ['A', 0,  1,  0,  0,  0, 1, 0, 0, 1, 0, 0],\n",
    "    [0,   0,  1,  0,  1,  0, 1, 0, 1, 0, 0, 0],\n",
    "    [1,   0,  0,  0,  1,  0, 0, 0, 1, 1, 1, 0],\n",
    "    [0,   1,  1,  0,  0,  1, 1, 0, 0, 0, 1, 0],\n",
    "    [0,   0,  0,  0,  1,  0, 1, 1, 1, 0, 0, 0],\n",
    "    [1,   1,  1,  0,  1,  0, 0, 0, 1, 1, 1, 0],\n",
    "    [0,   0,  1,  0,  0,  0, 1, 0, 0, 0, 1, 0],\n",
    "    [0,   1,  0,  1,  1,  0, 1, 1, 1, 0, 1, 0],\n",
    "    [0,   0,  0,  0,  0,  0, 0, 0, 1, 0, 0, 0],\n",
    "    [1,   1,  1,  1,  1,  1, 0, 1, 0, 1, 1, 0],\n",
    "    [0,   0,  0,  0,  0,  0, 0, 1, 0, 0, 0, 0],\n",
    "    [0,   1,  1,  1,  1,  1, 1, 1, 1, 1, 1,'B'],\n",
    "]"
   ]
  },
  {
   "cell_type": "code",
   "execution_count": 2,
   "id": "6ff543ae",
   "metadata": {},
   "outputs": [],
   "source": [
    "import heapq\n",
    "\n",
    "def manhattan(p1, p2):\n",
    "    return abs(p1[0] - p2[0]) + abs(p1[1] - p2[1])\n",
    "\n",
    "def find_positions(grid):\n",
    "    start = goal = None\n",
    "    for r in range(len(grid)):\n",
    "        for c in range(len(grid[0])):\n",
    "            if grid[r][c] == 'A':\n",
    "                start = (r, c)\n",
    "            elif grid[r][c] == 'B':\n",
    "                goal = (r, c)\n",
    "    return start, goal\n",
    "\n",
    "def greedy_bfs(grid):\n",
    "    start, goal = find_positions(grid)\n",
    "    if not start or not goal:\n",
    "        raise ValueError(\"Grid must contain 'A' (start) and 'B' (goal)\")\n",
    "\n",
    "    rows, cols = len(grid), len(grid[0])\n",
    "    visited = set()\n",
    "    came_from = {}  \n",
    "\n",
    "    heap = []\n",
    "    heapq.heappush(heap, (manhattan(start, goal), start))\n",
    "\n",
    "    while heap:\n",
    "        _, current = heapq.heappop(heap)\n",
    "\n",
    "        if current in visited:\n",
    "            continue\n",
    "\n",
    "        visited.add(current)\n",
    "\n",
    "        if current == goal:\n",
    "            path = []\n",
    "            while current != start:\n",
    "                path.append(current)\n",
    "                current = came_from[current]\n",
    "            path.append(start)\n",
    "            path.reverse()\n",
    "            return path\n",
    "\n",
    "        r, c = current\n",
    "        directions = [(0,1), (1,0), (0,-1), (-1,0)]  \n",
    "\n",
    "        for dr, dc in directions:\n",
    "            nr, nc = r + dr, c + dc\n",
    "            neighbor = (nr, nc)\n",
    "\n",
    "            if 0 <= nr < rows and 0 <= nc < cols:\n",
    "                val = grid[nr][nc]\n",
    "                if val != 1 and neighbor not in visited:\n",
    "                    if neighbor not in came_from:\n",
    "                        came_from[neighbor] = current\n",
    "                        heapq.heappush(heap, (manhattan(neighbor, goal), neighbor))\n",
    "\n",
    "    return None  \n"
   ]
  },
  {
   "cell_type": "code",
   "execution_count": null,
   "id": "5a7b84b0",
   "metadata": {},
   "outputs": [],
   "source": [
    "path = greedy_bfs(grid)  \n",
    "\n",
    "if path:\n",
    "    print(\"Path found:\")\n",
    "    for step in path:\n",
    "        print(step)\n",
    "else:\n",
    "    print(\"No path found.\")\n"
   ]
  },
  {
   "cell_type": "code",
   "execution_count": 4,
   "id": "4a6d69be",
   "metadata": {},
   "outputs": [
    {
     "name": "stdout",
     "output_type": "stream",
     "text": [
      "* * 1 0 0 0 1 0 0 1 0 0\n",
      "0 * 1 0 1 0 1 0 1 0 0 0\n",
      "1 * * * 1 0 0 0 1 1 1 0\n",
      "0 1 1 * 0 1 1 0 0 0 1 0\n",
      "0 0 0 * 1 0 1 1 1 0 0 0\n",
      "1 1 1 * 1 * * * 1 1 1 0\n",
      "0 0 1 * * * 1 * * * 1 0\n",
      "0 1 0 1 1 0 1 1 1 * 1 0\n",
      "0 0 0 0 0 0 0 0 1 * * *\n",
      "1 1 1 1 1 1 0 1 0 1 1 *\n",
      "0 0 0 0 0 0 0 1 0 0 0 *\n",
      "0 1 1 1 1 1 1 1 1 1 1 *\n"
     ]
    }
   ],
   "source": [
    "def visualize_path(path, maze):\n",
    "    for r, c in path:\n",
    "        if (r, c) != \"A\" and (r, c) != \"B\":\n",
    "            maze[r][c] = '*'\n",
    "\n",
    "    for row in maze:\n",
    "        print(' '.join(str(cell) for cell in row))\n",
    "\n",
    "visualize_path(path, grid)\n"
   ]
  },
  {
   "cell_type": "code",
   "execution_count": 5,
   "id": "ee9d28f3",
   "metadata": {},
   "outputs": [
    {
     "name": "stdout",
     "output_type": "stream",
     "text": [
      "22 21  # 19 18 17  # 15 14  # 12 11\n",
      "21 20  # 18  # 16  # 14  # 12 11 10\n",
      " # 19 18 17  # 15 14 13  #  #  #  9\n",
      "19  #  # 16 15  #  # 12 11 10  #  8\n",
      "18 17 16 15  # 13  #  #  #  9  8  7\n",
      " #  #  # 14  # 12 11 10  #  #  #  6\n",
      "16 15  # 13 12 11  #  9  8  7  #  5\n",
      "15  # 13  #  # 10  #  #  #  6  #  4\n",
      "14 13 12 11 10  9  8  7  #  5  4  3\n",
      " #  #  #  #  #  #  7  #  5  #  #  2\n",
      "12 11 10  9  8  7  6  #  4  3  2  1\n",
      "11  #  #  #  #  #  #  #  #  #  #  0\n"
     ]
    }
   ],
   "source": [
    "def manhattan(p1, p2):\n",
    "    return abs(p1[0] - p2[0]) + abs(p1[1] - p2[1])\n",
    "\n",
    "def find_goal(grid):\n",
    "    for r in range(len(grid)):\n",
    "        for c in range(len(grid[0])):\n",
    "            if grid[r][c] == 'B':\n",
    "                return (r, c)\n",
    "    raise ValueError(\"Goal 'B' not found in grid\")\n",
    "\n",
    "def visualize_manhattan(grid):\n",
    "    goal = find_goal(grid)\n",
    "    rows, cols = len(grid), len(grid[0])\n",
    "    dist_grid = []\n",
    "\n",
    "    for r in range(rows):\n",
    "        row_dist = []\n",
    "        for c in range(cols):\n",
    "            val = grid[r][c]\n",
    "            if val == 1:\n",
    "                row_dist.append('#')  \n",
    "            else:\n",
    "                dist = manhattan((r, c), goal)\n",
    "                row_dist.append(str(dist))\n",
    "        dist_grid.append(row_dist)\n",
    "\n",
    "    for row in dist_grid:\n",
    "        print(\" \".join(f\"{cell:>2}\" for cell in row))\n",
    "\n",
    "grid = [ \n",
    "    ['A', 0,  1,  0,  0,  0, 1, 0, 0, 1, 0, 0],\n",
    "    [0,   0,  1,  0,  1,  0, 1, 0, 1, 0, 0, 0],\n",
    "    [1,   0,  0,  0,  1,  0, 0, 0, 1, 1, 1, 0],\n",
    "    [0,   1,  1,  0,  0,  1, 1, 0, 0, 0, 1, 0],\n",
    "    [0,   0,  0,  0,  1,  0, 1, 1, 1, 0, 0, 0],\n",
    "    [1,   1,  1,  0,  1,  0, 0, 0, 1, 1, 1, 0],\n",
    "    [0,   0,  1,  0,  0,  0, 1, 0, 0, 0, 1, 0],\n",
    "    [0,   1,  0,  1,  1,  0, 1, 1, 1, 0, 1, 0],\n",
    "    [0,   0,  0,  0,  0,  0, 0, 0, 1, 0, 0, 0],\n",
    "    [1,   1,  1,  1,  1,  1, 0, 1, 0, 1, 1, 0],\n",
    "    [0,   0,  0,  0,  0,  0, 0, 1, 0, 0, 0, 0],\n",
    "    [0,   1,  1,  1,  1,  1, 1, 1, 1, 1, 1,'B'],\n",
    "]\n",
    "\n",
    "visualize_manhattan(grid)\n"
   ]
  },
  {
   "cell_type": "code",
   "execution_count": null,
   "id": "0771114e",
   "metadata": {},
   "outputs": [],
   "source": []
  }
 ],
 "metadata": {
  "kernelspec": {
   "display_name": "Python 3",
   "language": "python",
   "name": "python3"
  },
  "language_info": {
   "codemirror_mode": {
    "name": "ipython",
    "version": 3
   },
   "file_extension": ".py",
   "mimetype": "text/x-python",
   "name": "python",
   "nbconvert_exporter": "python",
   "pygments_lexer": "ipython3",
   "version": "3.12.10"
  }
 },
 "nbformat": 4,
 "nbformat_minor": 5
}
