{
 "cells": [
  {
   "cell_type": "markdown",
   "id": "d07b3264",
   "metadata": {},
   "source": [
    "**DFS**"
   ]
  },
  {
   "cell_type": "code",
   "execution_count": null,
   "id": "99d09a2e",
   "metadata": {},
   "outputs": [],
   "source": [
    "def DFS_VISIT(G, u):\n",
    "    \"\"\"\n",
    "    Visits a vertex u in DFS.\n",
    "    Tracks discovery time, finish time, and parent relationships.\n",
    "    \"\"\"\n",
    "    global time, color, parent, discovery, finish\n",
    "\n",
    "    color[u] = \"GRAY\"      \n",
    "    time += 1\n",
    "    discovery[u] = time    \n",
    "\n",
    "    for v in G[u]:\n",
    "        if color[v] == \"WHITE\":\n",
    "            parent[v] = u\n",
    "            DFS_VISIT(G, v)\n",
    "\n",
    "    color[u] = \"BLACK\"    \n",
    "    time += 1\n",
    "    finish[u] = time      "
   ]
  },
  {
   "cell_type": "code",
   "execution_count": null,
   "id": "7a5dc362",
   "metadata": {},
   "outputs": [],
   "source": [
    "def DFS(G):\n",
    "    \"\"\"\n",
    "    Runs Depth-First Search on graph G.\n",
    "    Initializes all vertices, then calls DFS-VISIT on unvisited ones.\n",
    "    \"\"\"\n",
    "    global time, color, parent, discovery, finish\n",
    "\n",
    "    for u in G:\n",
    "        color[u] = \"WHITE\"  \n",
    "        parent[u] = None\n",
    "\n",
    "    time = 0\n",
    "\n",
    "    for u in G:\n",
    "        if color[u] == \"WHITE\":\n",
    "            DFS_VISIT(G, u)"
   ]
  },
  {
   "cell_type": "code",
   "execution_count": null,
   "id": "9e66aefd",
   "metadata": {},
   "outputs": [
    {
     "name": "stdout",
     "output_type": "stream",
     "text": [
      "Discovery Times: {'u': 1, 'v': 2, 'y': 3, 'x': 4, 'w': 9, 'z': 10}\n",
      "Finish Times: {'x': 5, 'y': 6, 'v': 7, 'u': 8, 'z': 11, 'w': 12}\n",
      "Parents: {'u': None, 'v': 'u', 'w': None, 'x': 'y', 'y': 'v', 'z': 'w'}\n"
     ]
    }
   ],
   "source": [
    "graph = {\n",
    "    'u': ['v', 'x'],\n",
    "    'v': ['y'],\n",
    "    'w': ['y', 'z'],\n",
    "    'x': ['v'],\n",
    "    'y': ['x'],\n",
    "    'z': ['z'] \n",
    "}\n",
    "\n",
    "time = 0\n",
    "color = {}\n",
    "parent = {}\n",
    "discovery = {}\n",
    "finish = {}\n",
    "\n",
    "DFS(graph)\n",
    "\n",
    "print(\"Discovery Times:\", discovery)\n",
    "print(\"Finish Times:\", finish)\n",
    "print(\"Parents:\", parent)"
   ]
  },
  {
   "cell_type": "markdown",
   "id": "c810e82c",
   "metadata": {},
   "source": [
    "**Find the path given the start node and end node using DFS**"
   ]
  },
  {
   "cell_type": "code",
   "execution_count": 4,
   "id": "7cfbff16",
   "metadata": {},
   "outputs": [],
   "source": [
    "def DFS(graph, u, end, color, parent, found, steps):\n",
    "    if found[0]:\n",
    "        return\n",
    "    color[u] = \"GRAY\"\n",
    "    steps[0] += 1\n",
    "\n",
    "    if u==end:\n",
    "        found[0] = True\n",
    "        return\n",
    "\n",
    "    for v in graph[u]:\n",
    "        if color[v] ==\"WHITE\":\n",
    "            parent[v] =u\n",
    "            DFS(graph, v, end, color, parent, found, steps)\n",
    "\n",
    "    color[u] = \"BLACK\"\n",
    "\n",
    "\n",
    "def useDFS(graph, start, end):\n",
    "    color = {node: \"WHITE\" for node in graph}\n",
    "    parent = {node: None for node in graph}\n",
    "    found = [False]\n",
    "    steps = [0]\n",
    "\n",
    "    DFS(graph, start, end, color, parent, found, steps)\n",
    "\n",
    "    if not found[0]:\n",
    "        return None, steps[0] \n",
    "\n",
    "    path = []\n",
    "    current = end\n",
    "    while current is not None:\n",
    "        path.append(current)\n",
    "        current = parent[current]\n",
    "    path.reverse()\n",
    "\n",
    "    return path, steps\n",
    "\n"
   ]
  },
  {
   "cell_type": "code",
   "execution_count": null,
   "id": "70fcfb5d",
   "metadata": {},
   "outputs": [],
   "source": [
    "graph = {\n",
    "    'A': ['B', 'C'],\n",
    "    'B': ['A', 'D', 'E'],\n",
    "    'C': ['A', 'F'],\n",
    "    'D': ['B'],\n",
    "    'E': ['B', 'F'],\n",
    "    'F': ['C', 'E']\n",
    "}\n",
    "path,steps=useDFS(graph,\"A\",\"B\")\n",
    "print(path)\n",
    "print(steps)"
   ]
  }
 ],
 "metadata": {
  "kernelspec": {
   "display_name": "Python 3",
   "language": "python",
   "name": "python3"
  },
  "language_info": {
   "codemirror_mode": {
    "name": "ipython",
    "version": 3
   },
   "file_extension": ".py",
   "mimetype": "text/x-python",
   "name": "python",
   "nbconvert_exporter": "python",
   "pygments_lexer": "ipython3",
   "version": "3.12.10"
  }
 },
 "nbformat": 4,
 "nbformat_minor": 5
}
